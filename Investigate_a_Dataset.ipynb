{
 "cells": [
  {
   "cell_type": "markdown",
   "metadata": {},
   "source": [
    "\n",
    "# Project: Investigate a Dataset (TMDB Movie Data)\n",
    "\n",
    "## Table of Contents\n",
    "<ul>\n",
    "<li><a href=\"#intro\">Introduction</a></li>\n",
    "<li><a href=\"#wrangling\">Data Wrangling</a></li>\n",
    "<li><a href=\"#eda\">Exploratory Data Analysis</a></li>\n",
    "<li><a href=\"#conclusions\">Conclusions</a></li>\n",
    "</ul>"
   ]
  },
  {
   "cell_type": "markdown",
   "metadata": {},
   "source": [
    "<a id='intro'></a>\n",
    "# Introduction\n",
    "\n",
    "#### **Data will talk to you if you are willing to listen.\"Jim Bergeson\"**\n",
    "\n",
    ">Through this file ,we are going to study and analyze this dataset containing 10,866 movies and some specifications of them like ( budget, cast, director, and revenue).\n",
    ">So, this dataset formed of 10866 raws and 21 columns.\n",
    ">We are going to follow data analysis steps to reach a clear conclusion\n",
    "\n",
    "> The right question leads to accurate answer, and through diving in this analysis we are are going to answer the following questions:\n",
    "\n",
    "* **Which genres are most popular from year to year?**\n",
    "\n",
    "* **Which year has highest release of movies?**\n",
    "\n",
    "* **Which movies corresponding lowest and highest budget?**\n",
    "\n",
    ">**Let's start**"
   ]
  },
  {
   "cell_type": "code",
   "execution_count": 1,
   "metadata": {},
   "outputs": [],
   "source": [
    "import numpy as np\n",
    "import pandas as pd\n",
    "%matplotlib inline\n",
    "import matplotlib.pyplot as plt\n",
    "import seaborn as sns"
   ]
  },
  {
   "cell_type": "markdown",
   "metadata": {},
   "source": [
    "<a id='wrangling'></a>\n",
    "## Data Wrangling\n",
    "\n",
    "\n",
    "\n",
    "### Assessing Data"
   ]
  },
  {
   "cell_type": "markdown",
   "metadata": {},
   "source": [
    "#### In this part I will examin my dataset and check ( missing values, data types, NaN values, duplicates)"
   ]
  },
  {
   "cell_type": "code",
   "execution_count": 2,
   "metadata": {},
   "outputs": [],
   "source": [
    "df=pd.read_csv('tmdb-movies.csv')"
   ]
  },
  {
   "cell_type": "markdown",
   "metadata": {},
   "source": [
    "#### Here I uploaded the dataset"
   ]
  },
  {
   "cell_type": "code",
   "execution_count": 3,
   "metadata": {},
   "outputs": [
    {
     "data": {
      "text/html": [
       "<div>\n",
       "<style scoped>\n",
       "    .dataframe tbody tr th:only-of-type {\n",
       "        vertical-align: middle;\n",
       "    }\n",
       "\n",
       "    .dataframe tbody tr th {\n",
       "        vertical-align: top;\n",
       "    }\n",
       "\n",
       "    .dataframe thead th {\n",
       "        text-align: right;\n",
       "    }\n",
       "</style>\n",
       "<table border=\"1\" class=\"dataframe\">\n",
       "  <thead>\n",
       "    <tr style=\"text-align: right;\">\n",
       "      <th></th>\n",
       "      <th>id</th>\n",
       "      <th>imdb_id</th>\n",
       "      <th>popularity</th>\n",
       "      <th>budget</th>\n",
       "      <th>revenue</th>\n",
       "      <th>original_title</th>\n",
       "      <th>cast</th>\n",
       "      <th>homepage</th>\n",
       "      <th>director</th>\n",
       "      <th>tagline</th>\n",
       "      <th>...</th>\n",
       "      <th>overview</th>\n",
       "      <th>runtime</th>\n",
       "      <th>genres</th>\n",
       "      <th>production_companies</th>\n",
       "      <th>release_date</th>\n",
       "      <th>vote_count</th>\n",
       "      <th>vote_average</th>\n",
       "      <th>release_year</th>\n",
       "      <th>budget_adj</th>\n",
       "      <th>revenue_adj</th>\n",
       "    </tr>\n",
       "  </thead>\n",
       "  <tbody>\n",
       "    <tr>\n",
       "      <th>0</th>\n",
       "      <td>135397</td>\n",
       "      <td>tt0369610</td>\n",
       "      <td>32.985763</td>\n",
       "      <td>150000000</td>\n",
       "      <td>1513528810</td>\n",
       "      <td>Jurassic World</td>\n",
       "      <td>Chris Pratt|Bryce Dallas Howard|Irrfan Khan|Vi...</td>\n",
       "      <td>http://www.jurassicworld.com/</td>\n",
       "      <td>Colin Trevorrow</td>\n",
       "      <td>The park is open.</td>\n",
       "      <td>...</td>\n",
       "      <td>Twenty-two years after the events of Jurassic ...</td>\n",
       "      <td>124</td>\n",
       "      <td>Action|Adventure|Science Fiction|Thriller</td>\n",
       "      <td>Universal Studios|Amblin Entertainment|Legenda...</td>\n",
       "      <td>6/9/15</td>\n",
       "      <td>5562</td>\n",
       "      <td>6.5</td>\n",
       "      <td>2015</td>\n",
       "      <td>1.379999e+08</td>\n",
       "      <td>1.392446e+09</td>\n",
       "    </tr>\n",
       "  </tbody>\n",
       "</table>\n",
       "<p>1 rows × 21 columns</p>\n",
       "</div>"
      ],
      "text/plain": [
       "       id    imdb_id  popularity     budget     revenue  original_title  \\\n",
       "0  135397  tt0369610   32.985763  150000000  1513528810  Jurassic World   \n",
       "\n",
       "                                                cast  \\\n",
       "0  Chris Pratt|Bryce Dallas Howard|Irrfan Khan|Vi...   \n",
       "\n",
       "                        homepage         director            tagline  \\\n",
       "0  http://www.jurassicworld.com/  Colin Trevorrow  The park is open.   \n",
       "\n",
       "       ...                                                overview runtime  \\\n",
       "0      ...       Twenty-two years after the events of Jurassic ...     124   \n",
       "\n",
       "                                      genres  \\\n",
       "0  Action|Adventure|Science Fiction|Thriller   \n",
       "\n",
       "                                production_companies release_date vote_count  \\\n",
       "0  Universal Studios|Amblin Entertainment|Legenda...       6/9/15       5562   \n",
       "\n",
       "   vote_average  release_year    budget_adj   revenue_adj  \n",
       "0           6.5          2015  1.379999e+08  1.392446e+09  \n",
       "\n",
       "[1 rows x 21 columns]"
      ]
     },
     "execution_count": 3,
     "metadata": {},
     "output_type": "execute_result"
    }
   ],
   "source": [
    "df.head(1)"
   ]
  },
  {
   "cell_type": "markdown",
   "metadata": {},
   "source": [
    "#### This is how the dataset looks like"
   ]
  },
  {
   "cell_type": "code",
   "execution_count": 4,
   "metadata": {},
   "outputs": [],
   "source": [
    "df.rename(columns=lambda x: x.capitalize(), inplace=True)"
   ]
  },
  {
   "cell_type": "code",
   "execution_count": 5,
   "metadata": {},
   "outputs": [
    {
     "data": {
      "text/html": [
       "<div>\n",
       "<style scoped>\n",
       "    .dataframe tbody tr th:only-of-type {\n",
       "        vertical-align: middle;\n",
       "    }\n",
       "\n",
       "    .dataframe tbody tr th {\n",
       "        vertical-align: top;\n",
       "    }\n",
       "\n",
       "    .dataframe thead th {\n",
       "        text-align: right;\n",
       "    }\n",
       "</style>\n",
       "<table border=\"1\" class=\"dataframe\">\n",
       "  <thead>\n",
       "    <tr style=\"text-align: right;\">\n",
       "      <th></th>\n",
       "      <th>Id</th>\n",
       "      <th>Imdb_id</th>\n",
       "      <th>Popularity</th>\n",
       "      <th>Budget</th>\n",
       "      <th>Revenue</th>\n",
       "      <th>Original_title</th>\n",
       "      <th>Cast</th>\n",
       "      <th>Homepage</th>\n",
       "      <th>Director</th>\n",
       "      <th>Tagline</th>\n",
       "      <th>...</th>\n",
       "      <th>Overview</th>\n",
       "      <th>Runtime</th>\n",
       "      <th>Genres</th>\n",
       "      <th>Production_companies</th>\n",
       "      <th>Release_date</th>\n",
       "      <th>Vote_count</th>\n",
       "      <th>Vote_average</th>\n",
       "      <th>Release_year</th>\n",
       "      <th>Budget_adj</th>\n",
       "      <th>Revenue_adj</th>\n",
       "    </tr>\n",
       "  </thead>\n",
       "  <tbody>\n",
       "    <tr>\n",
       "      <th>0</th>\n",
       "      <td>135397</td>\n",
       "      <td>tt0369610</td>\n",
       "      <td>32.985763</td>\n",
       "      <td>150000000</td>\n",
       "      <td>1513528810</td>\n",
       "      <td>Jurassic World</td>\n",
       "      <td>Chris Pratt|Bryce Dallas Howard|Irrfan Khan|Vi...</td>\n",
       "      <td>http://www.jurassicworld.com/</td>\n",
       "      <td>Colin Trevorrow</td>\n",
       "      <td>The park is open.</td>\n",
       "      <td>...</td>\n",
       "      <td>Twenty-two years after the events of Jurassic ...</td>\n",
       "      <td>124</td>\n",
       "      <td>Action|Adventure|Science Fiction|Thriller</td>\n",
       "      <td>Universal Studios|Amblin Entertainment|Legenda...</td>\n",
       "      <td>6/9/15</td>\n",
       "      <td>5562</td>\n",
       "      <td>6.5</td>\n",
       "      <td>2015</td>\n",
       "      <td>1.379999e+08</td>\n",
       "      <td>1.392446e+09</td>\n",
       "    </tr>\n",
       "  </tbody>\n",
       "</table>\n",
       "<p>1 rows × 21 columns</p>\n",
       "</div>"
      ],
      "text/plain": [
       "       Id    Imdb_id  Popularity     Budget     Revenue  Original_title  \\\n",
       "0  135397  tt0369610   32.985763  150000000  1513528810  Jurassic World   \n",
       "\n",
       "                                                Cast  \\\n",
       "0  Chris Pratt|Bryce Dallas Howard|Irrfan Khan|Vi...   \n",
       "\n",
       "                        Homepage         Director            Tagline  \\\n",
       "0  http://www.jurassicworld.com/  Colin Trevorrow  The park is open.   \n",
       "\n",
       "       ...                                                Overview Runtime  \\\n",
       "0      ...       Twenty-two years after the events of Jurassic ...     124   \n",
       "\n",
       "                                      Genres  \\\n",
       "0  Action|Adventure|Science Fiction|Thriller   \n",
       "\n",
       "                                Production_companies Release_date Vote_count  \\\n",
       "0  Universal Studios|Amblin Entertainment|Legenda...       6/9/15       5562   \n",
       "\n",
       "   Vote_average  Release_year    Budget_adj   Revenue_adj  \n",
       "0           6.5          2015  1.379999e+08  1.392446e+09  \n",
       "\n",
       "[1 rows x 21 columns]"
      ]
     },
     "execution_count": 5,
     "metadata": {},
     "output_type": "execute_result"
    }
   ],
   "source": [
    "df.head(1)"
   ]
  },
  {
   "cell_type": "markdown",
   "metadata": {},
   "source": [
    "#### I just wanted to change labels like above"
   ]
  },
  {
   "cell_type": "code",
   "execution_count": 6,
   "metadata": {},
   "outputs": [
    {
     "data": {
      "text/html": [
       "<div>\n",
       "<style scoped>\n",
       "    .dataframe tbody tr th:only-of-type {\n",
       "        vertical-align: middle;\n",
       "    }\n",
       "\n",
       "    .dataframe tbody tr th {\n",
       "        vertical-align: top;\n",
       "    }\n",
       "\n",
       "    .dataframe thead th {\n",
       "        text-align: right;\n",
       "    }\n",
       "</style>\n",
       "<table border=\"1\" class=\"dataframe\">\n",
       "  <thead>\n",
       "    <tr style=\"text-align: right;\">\n",
       "      <th></th>\n",
       "      <th>Id</th>\n",
       "      <th>Imdb_id</th>\n",
       "      <th>Popularity</th>\n",
       "      <th>Budget</th>\n",
       "      <th>Revenue</th>\n",
       "      <th>Original_title</th>\n",
       "      <th>Cast</th>\n",
       "      <th>Homepage</th>\n",
       "      <th>Director</th>\n",
       "      <th>Tagline</th>\n",
       "      <th>...</th>\n",
       "      <th>Overview</th>\n",
       "      <th>Runtime</th>\n",
       "      <th>Genres</th>\n",
       "      <th>Production_companies</th>\n",
       "      <th>Release_date</th>\n",
       "      <th>Vote_count</th>\n",
       "      <th>Vote_average</th>\n",
       "      <th>Release_year</th>\n",
       "      <th>Budget_adj</th>\n",
       "      <th>Revenue_adj</th>\n",
       "    </tr>\n",
       "  </thead>\n",
       "  <tbody>\n",
       "    <tr>\n",
       "      <th>10864</th>\n",
       "      <td>21449</td>\n",
       "      <td>tt0061177</td>\n",
       "      <td>0.064317</td>\n",
       "      <td>0</td>\n",
       "      <td>0</td>\n",
       "      <td>What's Up, Tiger Lily?</td>\n",
       "      <td>Tatsuya Mihashi|Akiko Wakabayashi|Mie Hama|Joh...</td>\n",
       "      <td>NaN</td>\n",
       "      <td>Woody Allen</td>\n",
       "      <td>WOODY ALLEN STRIKES BACK!</td>\n",
       "      <td>...</td>\n",
       "      <td>In comic Woody Allen's film debut, he took the...</td>\n",
       "      <td>80</td>\n",
       "      <td>Action|Comedy</td>\n",
       "      <td>Benedict Pictures Corp.</td>\n",
       "      <td>11/2/66</td>\n",
       "      <td>22</td>\n",
       "      <td>5.4</td>\n",
       "      <td>1966</td>\n",
       "      <td>0.000000</td>\n",
       "      <td>0.0</td>\n",
       "    </tr>\n",
       "    <tr>\n",
       "      <th>10865</th>\n",
       "      <td>22293</td>\n",
       "      <td>tt0060666</td>\n",
       "      <td>0.035919</td>\n",
       "      <td>19000</td>\n",
       "      <td>0</td>\n",
       "      <td>Manos: The Hands of Fate</td>\n",
       "      <td>Harold P. Warren|Tom Neyman|John Reynolds|Dian...</td>\n",
       "      <td>NaN</td>\n",
       "      <td>Harold P. Warren</td>\n",
       "      <td>It's Shocking! It's Beyond Your Imagination!</td>\n",
       "      <td>...</td>\n",
       "      <td>A family gets lost on the road and stumbles up...</td>\n",
       "      <td>74</td>\n",
       "      <td>Horror</td>\n",
       "      <td>Norm-Iris</td>\n",
       "      <td>11/15/66</td>\n",
       "      <td>15</td>\n",
       "      <td>1.5</td>\n",
       "      <td>1966</td>\n",
       "      <td>127642.279154</td>\n",
       "      <td>0.0</td>\n",
       "    </tr>\n",
       "  </tbody>\n",
       "</table>\n",
       "<p>2 rows × 21 columns</p>\n",
       "</div>"
      ],
      "text/plain": [
       "          Id    Imdb_id  Popularity  Budget  Revenue  \\\n",
       "10864  21449  tt0061177    0.064317       0        0   \n",
       "10865  22293  tt0060666    0.035919   19000        0   \n",
       "\n",
       "                 Original_title  \\\n",
       "10864    What's Up, Tiger Lily?   \n",
       "10865  Manos: The Hands of Fate   \n",
       "\n",
       "                                                    Cast Homepage  \\\n",
       "10864  Tatsuya Mihashi|Akiko Wakabayashi|Mie Hama|Joh...      NaN   \n",
       "10865  Harold P. Warren|Tom Neyman|John Reynolds|Dian...      NaN   \n",
       "\n",
       "               Director                                       Tagline  \\\n",
       "10864       Woody Allen                     WOODY ALLEN STRIKES BACK!   \n",
       "10865  Harold P. Warren  It's Shocking! It's Beyond Your Imagination!   \n",
       "\n",
       "          ...                                                Overview Runtime  \\\n",
       "10864     ...       In comic Woody Allen's film debut, he took the...      80   \n",
       "10865     ...       A family gets lost on the road and stumbles up...      74   \n",
       "\n",
       "              Genres     Production_companies Release_date Vote_count  \\\n",
       "10864  Action|Comedy  Benedict Pictures Corp.      11/2/66         22   \n",
       "10865         Horror                Norm-Iris     11/15/66         15   \n",
       "\n",
       "       Vote_average  Release_year     Budget_adj  Revenue_adj  \n",
       "10864           5.4          1966       0.000000          0.0  \n",
       "10865           1.5          1966  127642.279154          0.0  \n",
       "\n",
       "[2 rows x 21 columns]"
      ]
     },
     "execution_count": 6,
     "metadata": {},
     "output_type": "execute_result"
    }
   ],
   "source": [
    "df.tail(2)"
   ]
  },
  {
   "cell_type": "code",
   "execution_count": 7,
   "metadata": {},
   "outputs": [
    {
     "data": {
      "text/plain": [
       "Id                        int64\n",
       "Imdb_id                  object\n",
       "Popularity              float64\n",
       "Budget                    int64\n",
       "Revenue                   int64\n",
       "Original_title           object\n",
       "Cast                     object\n",
       "Homepage                 object\n",
       "Director                 object\n",
       "Tagline                  object\n",
       "Keywords                 object\n",
       "Overview                 object\n",
       "Runtime                   int64\n",
       "Genres                   object\n",
       "Production_companies     object\n",
       "Release_date             object\n",
       "Vote_count                int64\n",
       "Vote_average            float64\n",
       "Release_year              int64\n",
       "Budget_adj              float64\n",
       "Revenue_adj             float64\n",
       "dtype: object"
      ]
     },
     "execution_count": 7,
     "metadata": {},
     "output_type": "execute_result"
    }
   ],
   "source": [
    "df.dtypes"
   ]
  },
  {
   "cell_type": "code",
   "execution_count": 8,
   "metadata": {},
   "outputs": [
    {
     "data": {
      "text/html": [
       "<div>\n",
       "<style scoped>\n",
       "    .dataframe tbody tr th:only-of-type {\n",
       "        vertical-align: middle;\n",
       "    }\n",
       "\n",
       "    .dataframe tbody tr th {\n",
       "        vertical-align: top;\n",
       "    }\n",
       "\n",
       "    .dataframe thead th {\n",
       "        text-align: right;\n",
       "    }\n",
       "</style>\n",
       "<table border=\"1\" class=\"dataframe\">\n",
       "  <thead>\n",
       "    <tr style=\"text-align: right;\">\n",
       "      <th></th>\n",
       "      <th>Id</th>\n",
       "      <th>Popularity</th>\n",
       "      <th>Budget</th>\n",
       "      <th>Revenue</th>\n",
       "      <th>Runtime</th>\n",
       "      <th>Vote_count</th>\n",
       "      <th>Vote_average</th>\n",
       "      <th>Release_year</th>\n",
       "      <th>Budget_adj</th>\n",
       "      <th>Revenue_adj</th>\n",
       "    </tr>\n",
       "  </thead>\n",
       "  <tbody>\n",
       "    <tr>\n",
       "      <th>count</th>\n",
       "      <td>10866.000000</td>\n",
       "      <td>10866.000000</td>\n",
       "      <td>1.086600e+04</td>\n",
       "      <td>1.086600e+04</td>\n",
       "      <td>10866.000000</td>\n",
       "      <td>10866.000000</td>\n",
       "      <td>10866.000000</td>\n",
       "      <td>10866.000000</td>\n",
       "      <td>1.086600e+04</td>\n",
       "      <td>1.086600e+04</td>\n",
       "    </tr>\n",
       "    <tr>\n",
       "      <th>mean</th>\n",
       "      <td>66064.177434</td>\n",
       "      <td>0.646441</td>\n",
       "      <td>1.462570e+07</td>\n",
       "      <td>3.982332e+07</td>\n",
       "      <td>102.070863</td>\n",
       "      <td>217.389748</td>\n",
       "      <td>5.974922</td>\n",
       "      <td>2001.322658</td>\n",
       "      <td>1.755104e+07</td>\n",
       "      <td>5.136436e+07</td>\n",
       "    </tr>\n",
       "    <tr>\n",
       "      <th>std</th>\n",
       "      <td>92130.136561</td>\n",
       "      <td>1.000185</td>\n",
       "      <td>3.091321e+07</td>\n",
       "      <td>1.170035e+08</td>\n",
       "      <td>31.381405</td>\n",
       "      <td>575.619058</td>\n",
       "      <td>0.935142</td>\n",
       "      <td>12.812941</td>\n",
       "      <td>3.430616e+07</td>\n",
       "      <td>1.446325e+08</td>\n",
       "    </tr>\n",
       "    <tr>\n",
       "      <th>min</th>\n",
       "      <td>5.000000</td>\n",
       "      <td>0.000065</td>\n",
       "      <td>0.000000e+00</td>\n",
       "      <td>0.000000e+00</td>\n",
       "      <td>0.000000</td>\n",
       "      <td>10.000000</td>\n",
       "      <td>1.500000</td>\n",
       "      <td>1960.000000</td>\n",
       "      <td>0.000000e+00</td>\n",
       "      <td>0.000000e+00</td>\n",
       "    </tr>\n",
       "    <tr>\n",
       "      <th>25%</th>\n",
       "      <td>10596.250000</td>\n",
       "      <td>0.207583</td>\n",
       "      <td>0.000000e+00</td>\n",
       "      <td>0.000000e+00</td>\n",
       "      <td>90.000000</td>\n",
       "      <td>17.000000</td>\n",
       "      <td>5.400000</td>\n",
       "      <td>1995.000000</td>\n",
       "      <td>0.000000e+00</td>\n",
       "      <td>0.000000e+00</td>\n",
       "    </tr>\n",
       "    <tr>\n",
       "      <th>50%</th>\n",
       "      <td>20669.000000</td>\n",
       "      <td>0.383856</td>\n",
       "      <td>0.000000e+00</td>\n",
       "      <td>0.000000e+00</td>\n",
       "      <td>99.000000</td>\n",
       "      <td>38.000000</td>\n",
       "      <td>6.000000</td>\n",
       "      <td>2006.000000</td>\n",
       "      <td>0.000000e+00</td>\n",
       "      <td>0.000000e+00</td>\n",
       "    </tr>\n",
       "    <tr>\n",
       "      <th>75%</th>\n",
       "      <td>75610.000000</td>\n",
       "      <td>0.713817</td>\n",
       "      <td>1.500000e+07</td>\n",
       "      <td>2.400000e+07</td>\n",
       "      <td>111.000000</td>\n",
       "      <td>145.750000</td>\n",
       "      <td>6.600000</td>\n",
       "      <td>2011.000000</td>\n",
       "      <td>2.085325e+07</td>\n",
       "      <td>3.369710e+07</td>\n",
       "    </tr>\n",
       "    <tr>\n",
       "      <th>max</th>\n",
       "      <td>417859.000000</td>\n",
       "      <td>32.985763</td>\n",
       "      <td>4.250000e+08</td>\n",
       "      <td>2.781506e+09</td>\n",
       "      <td>900.000000</td>\n",
       "      <td>9767.000000</td>\n",
       "      <td>9.200000</td>\n",
       "      <td>2015.000000</td>\n",
       "      <td>4.250000e+08</td>\n",
       "      <td>2.827124e+09</td>\n",
       "    </tr>\n",
       "  </tbody>\n",
       "</table>\n",
       "</div>"
      ],
      "text/plain": [
       "                  Id    Popularity        Budget       Revenue       Runtime  \\\n",
       "count   10866.000000  10866.000000  1.086600e+04  1.086600e+04  10866.000000   \n",
       "mean    66064.177434      0.646441  1.462570e+07  3.982332e+07    102.070863   \n",
       "std     92130.136561      1.000185  3.091321e+07  1.170035e+08     31.381405   \n",
       "min         5.000000      0.000065  0.000000e+00  0.000000e+00      0.000000   \n",
       "25%     10596.250000      0.207583  0.000000e+00  0.000000e+00     90.000000   \n",
       "50%     20669.000000      0.383856  0.000000e+00  0.000000e+00     99.000000   \n",
       "75%     75610.000000      0.713817  1.500000e+07  2.400000e+07    111.000000   \n",
       "max    417859.000000     32.985763  4.250000e+08  2.781506e+09    900.000000   \n",
       "\n",
       "         Vote_count  Vote_average  Release_year    Budget_adj   Revenue_adj  \n",
       "count  10866.000000  10866.000000  10866.000000  1.086600e+04  1.086600e+04  \n",
       "mean     217.389748      5.974922   2001.322658  1.755104e+07  5.136436e+07  \n",
       "std      575.619058      0.935142     12.812941  3.430616e+07  1.446325e+08  \n",
       "min       10.000000      1.500000   1960.000000  0.000000e+00  0.000000e+00  \n",
       "25%       17.000000      5.400000   1995.000000  0.000000e+00  0.000000e+00  \n",
       "50%       38.000000      6.000000   2006.000000  0.000000e+00  0.000000e+00  \n",
       "75%      145.750000      6.600000   2011.000000  2.085325e+07  3.369710e+07  \n",
       "max     9767.000000      9.200000   2015.000000  4.250000e+08  2.827124e+09  "
      ]
     },
     "execution_count": 8,
     "metadata": {},
     "output_type": "execute_result"
    }
   ],
   "source": [
    "df.describe()"
   ]
  },
  {
   "cell_type": "markdown",
   "metadata": {},
   "source": [
    "#### Before starting processing on data, I took an overall view of its dype"
   ]
  },
  {
   "cell_type": "code",
   "execution_count": 9,
   "metadata": {},
   "outputs": [
    {
     "data": {
      "text/plain": [
       "1"
      ]
     },
     "execution_count": 9,
     "metadata": {},
     "output_type": "execute_result"
    }
   ],
   "source": [
    "df.duplicated().sum()"
   ]
  },
  {
   "cell_type": "markdown",
   "metadata": {},
   "source": [
    "#### So, this data has only 1 row duplicated"
   ]
  },
  {
   "cell_type": "code",
   "execution_count": 10,
   "metadata": {},
   "outputs": [
    {
     "name": "stdout",
     "output_type": "stream",
     "text": [
      "<class 'pandas.core.frame.DataFrame'>\n",
      "RangeIndex: 10866 entries, 0 to 10865\n",
      "Data columns (total 21 columns):\n",
      "Id                      10866 non-null int64\n",
      "Imdb_id                 10856 non-null object\n",
      "Popularity              10866 non-null float64\n",
      "Budget                  10866 non-null int64\n",
      "Revenue                 10866 non-null int64\n",
      "Original_title          10866 non-null object\n",
      "Cast                    10790 non-null object\n",
      "Homepage                2936 non-null object\n",
      "Director                10822 non-null object\n",
      "Tagline                 8042 non-null object\n",
      "Keywords                9373 non-null object\n",
      "Overview                10862 non-null object\n",
      "Runtime                 10866 non-null int64\n",
      "Genres                  10843 non-null object\n",
      "Production_companies    9836 non-null object\n",
      "Release_date            10866 non-null object\n",
      "Vote_count              10866 non-null int64\n",
      "Vote_average            10866 non-null float64\n",
      "Release_year            10866 non-null int64\n",
      "Budget_adj              10866 non-null float64\n",
      "Revenue_adj             10866 non-null float64\n",
      "dtypes: float64(4), int64(6), object(11)\n",
      "memory usage: 1.7+ MB\n"
     ]
    }
   ],
   "source": [
    "df.info()"
   ]
  },
  {
   "cell_type": "markdown",
   "metadata": {},
   "source": [
    "### List of issues with data"
   ]
  },
  {
   "cell_type": "markdown",
   "metadata": {},
   "source": [
    "* **We have uneffective columns for analysis can be dropped**"
   ]
  },
  {
   "cell_type": "markdown",
   "metadata": {},
   "source": [
    "* **Remove duplicates**"
   ]
  },
  {
   "cell_type": "markdown",
   "metadata": {},
   "source": [
    "* **Replace zeros with NaN values**"
   ]
  },
  {
   "cell_type": "markdown",
   "metadata": {},
   "source": [
    "* **Remove NaN values**"
   ]
  },
  {
   "cell_type": "markdown",
   "metadata": {},
   "source": [
    "* **Adjusted columns of budget and revenue can be used instead of budget & revenue**"
   ]
  },
  {
   "cell_type": "markdown",
   "metadata": {},
   "source": [
    "* **Relese date column needs to be converted from string to data time**"
   ]
  },
  {
   "cell_type": "markdown",
   "metadata": {},
   "source": [
    "* **Change type of budget & revenue columns into int**"
   ]
  },
  {
   "cell_type": "code",
   "execution_count": null,
   "metadata": {},
   "outputs": [],
   "source": []
  },
  {
   "cell_type": "markdown",
   "metadata": {},
   "source": [
    "### Data Cleaning (I did remove duplicated values, fix data types , remove NaN values, and substitute for zero values)"
   ]
  },
  {
   "cell_type": "code",
   "execution_count": 11,
   "metadata": {},
   "outputs": [],
   "source": [
    "df.drop(['Imdb_id', 'Homepage','Tagline','Keywords','Overview','Cast'], axis=1, inplace=True)"
   ]
  },
  {
   "cell_type": "markdown",
   "metadata": {},
   "source": [
    "#### Then I check for columns I can do without\n",
    "#### imdb_id has no valuable meaning while analysis so can be dropped, and the same for Homepage, tagline, overview, keywords"
   ]
  },
  {
   "cell_type": "code",
   "execution_count": 12,
   "metadata": {},
   "outputs": [],
   "source": [
    "df.drop_duplicates(inplace=True)"
   ]
  },
  {
   "cell_type": "markdown",
   "metadata": {},
   "source": [
    "#### So, there is 1 duplicated value and I will remove it"
   ]
  },
  {
   "cell_type": "code",
   "execution_count": 13,
   "metadata": {},
   "outputs": [
    {
     "name": "stdout",
     "output_type": "stream",
     "text": [
      "After removing duplicated data we have (rows, column):  (10865, 15)\n"
     ]
    }
   ],
   "source": [
    "print(\"After removing duplicated data we have (rows, column): \", df.shape) "
   ]
  },
  {
   "cell_type": "code",
   "execution_count": 14,
   "metadata": {},
   "outputs": [
    {
     "data": {
      "text/html": [
       "<div>\n",
       "<style scoped>\n",
       "    .dataframe tbody tr th:only-of-type {\n",
       "        vertical-align: middle;\n",
       "    }\n",
       "\n",
       "    .dataframe tbody tr th {\n",
       "        vertical-align: top;\n",
       "    }\n",
       "\n",
       "    .dataframe thead th {\n",
       "        text-align: right;\n",
       "    }\n",
       "</style>\n",
       "<table border=\"1\" class=\"dataframe\">\n",
       "  <thead>\n",
       "    <tr style=\"text-align: right;\">\n",
       "      <th></th>\n",
       "      <th>Id</th>\n",
       "      <th>Popularity</th>\n",
       "      <th>Budget</th>\n",
       "      <th>Revenue</th>\n",
       "      <th>Original_title</th>\n",
       "      <th>Director</th>\n",
       "      <th>Runtime</th>\n",
       "      <th>Genres</th>\n",
       "      <th>Production_companies</th>\n",
       "      <th>Release_date</th>\n",
       "      <th>Vote_count</th>\n",
       "      <th>Vote_average</th>\n",
       "      <th>Release_year</th>\n",
       "      <th>Budget_adj</th>\n",
       "      <th>Revenue_adj</th>\n",
       "    </tr>\n",
       "  </thead>\n",
       "  <tbody>\n",
       "    <tr>\n",
       "      <th>0</th>\n",
       "      <td>135397</td>\n",
       "      <td>32.985763</td>\n",
       "      <td>150000000</td>\n",
       "      <td>1513528810</td>\n",
       "      <td>Jurassic World</td>\n",
       "      <td>Colin Trevorrow</td>\n",
       "      <td>124</td>\n",
       "      <td>Action|Adventure|Science Fiction|Thriller</td>\n",
       "      <td>Universal Studios|Amblin Entertainment|Legenda...</td>\n",
       "      <td>6/9/15</td>\n",
       "      <td>5562</td>\n",
       "      <td>6.5</td>\n",
       "      <td>2015</td>\n",
       "      <td>1.379999e+08</td>\n",
       "      <td>1.392446e+09</td>\n",
       "    </tr>\n",
       "  </tbody>\n",
       "</table>\n",
       "</div>"
      ],
      "text/plain": [
       "       Id  Popularity     Budget     Revenue  Original_title         Director  \\\n",
       "0  135397   32.985763  150000000  1513528810  Jurassic World  Colin Trevorrow   \n",
       "\n",
       "   Runtime                                     Genres  \\\n",
       "0      124  Action|Adventure|Science Fiction|Thriller   \n",
       "\n",
       "                                Production_companies Release_date  Vote_count  \\\n",
       "0  Universal Studios|Amblin Entertainment|Legenda...       6/9/15        5562   \n",
       "\n",
       "   Vote_average  Release_year    Budget_adj   Revenue_adj  \n",
       "0           6.5          2015  1.379999e+08  1.392446e+09  "
      ]
     },
     "execution_count": 14,
     "metadata": {},
     "output_type": "execute_result"
    }
   ],
   "source": [
    "df.head(1)"
   ]
  },
  {
   "cell_type": "code",
   "execution_count": 15,
   "metadata": {},
   "outputs": [
    {
     "name": "stdout",
     "output_type": "stream",
     "text": [
      "<class 'pandas.core.frame.DataFrame'>\n",
      "Int64Index: 10865 entries, 0 to 10865\n",
      "Data columns (total 15 columns):\n",
      "Id                      10865 non-null int64\n",
      "Popularity              10865 non-null float64\n",
      "Budget                  10865 non-null int64\n",
      "Revenue                 10865 non-null int64\n",
      "Original_title          10865 non-null object\n",
      "Director                10821 non-null object\n",
      "Runtime                 10865 non-null int64\n",
      "Genres                  10842 non-null object\n",
      "Production_companies    9835 non-null object\n",
      "Release_date            10865 non-null object\n",
      "Vote_count              10865 non-null int64\n",
      "Vote_average            10865 non-null float64\n",
      "Release_year            10865 non-null int64\n",
      "Budget_adj              10865 non-null float64\n",
      "Revenue_adj             10865 non-null float64\n",
      "dtypes: float64(4), int64(6), object(5)\n",
      "memory usage: 1.3+ MB\n"
     ]
    }
   ],
   "source": [
    "df.info()"
   ]
  },
  {
   "cell_type": "code",
   "execution_count": 16,
   "metadata": {},
   "outputs": [],
   "source": [
    "df=df.replace(0, np.nan)"
   ]
  },
  {
   "cell_type": "markdown",
   "metadata": {},
   "source": [
    "#### Zero values replace by NaN ones"
   ]
  },
  {
   "cell_type": "code",
   "execution_count": 17,
   "metadata": {},
   "outputs": [],
   "source": [
    "df.dropna(inplace=True)"
   ]
  },
  {
   "cell_type": "code",
   "execution_count": 18,
   "metadata": {},
   "outputs": [
    {
     "data": {
      "text/plain": [
       "(3807, 15)"
      ]
     },
     "execution_count": 18,
     "metadata": {},
     "output_type": "execute_result"
    }
   ],
   "source": [
    "df.shape"
   ]
  },
  {
   "cell_type": "markdown",
   "metadata": {},
   "source": [
    "#### Then NaN values removed"
   ]
  },
  {
   "cell_type": "code",
   "execution_count": 19,
   "metadata": {},
   "outputs": [],
   "source": [
    "df.drop(['Budget','Revenue'], axis=1, inplace=True)"
   ]
  },
  {
   "cell_type": "code",
   "execution_count": 20,
   "metadata": {},
   "outputs": [],
   "source": [
    "df.rename(columns= {'Budget_adj':'Budget','Revenue_adj':'Revenue'}, inplace=True)"
   ]
  },
  {
   "cell_type": "markdown",
   "metadata": {},
   "source": [
    "#### Since budget & revenue columns are adjusted, so I can use the adjusted values instaed of early ones, so that I dropped columns named early Budget and Revenue"
   ]
  },
  {
   "cell_type": "code",
   "execution_count": 21,
   "metadata": {},
   "outputs": [],
   "source": [
    "df['Id']=df['Id'].astype(object)"
   ]
  },
  {
   "cell_type": "code",
   "execution_count": 22,
   "metadata": {},
   "outputs": [],
   "source": [
    "df['Release_date']=pd.to_datetime(df['Release_date'])"
   ]
  },
  {
   "cell_type": "markdown",
   "metadata": {},
   "source": [
    "#### Since column of release date was string, I changed info date format"
   ]
  },
  {
   "cell_type": "code",
   "execution_count": 23,
   "metadata": {},
   "outputs": [],
   "source": [
    "df['Runtime']=df['Runtime'].astype(int)"
   ]
  },
  {
   "cell_type": "markdown",
   "metadata": {},
   "source": [
    "#### Runtime column converted from float to int"
   ]
  },
  {
   "cell_type": "code",
   "execution_count": 24,
   "metadata": {},
   "outputs": [],
   "source": [
    "df['Revenue']=df['Revenue'].astype(int)"
   ]
  },
  {
   "cell_type": "markdown",
   "metadata": {},
   "source": [
    "#### Revenue converted to be int type"
   ]
  },
  {
   "cell_type": "code",
   "execution_count": 25,
   "metadata": {},
   "outputs": [],
   "source": [
    "df['Budget']=df['Budget'].astype(int)"
   ]
  },
  {
   "cell_type": "markdown",
   "metadata": {},
   "source": [
    "#### Also, budget column converted to int type"
   ]
  },
  {
   "cell_type": "code",
   "execution_count": 26,
   "metadata": {},
   "outputs": [
    {
     "data": {
      "text/plain": [
       "Id                              object\n",
       "Popularity                     float64\n",
       "Original_title                  object\n",
       "Director                        object\n",
       "Runtime                          int64\n",
       "Genres                          object\n",
       "Production_companies            object\n",
       "Release_date            datetime64[ns]\n",
       "Vote_count                       int64\n",
       "Vote_average                   float64\n",
       "Release_year                     int64\n",
       "Budget                           int64\n",
       "Revenue                          int64\n",
       "dtype: object"
      ]
     },
     "execution_count": 26,
     "metadata": {},
     "output_type": "execute_result"
    }
   ],
   "source": [
    "df.dtypes"
   ]
  },
  {
   "cell_type": "code",
   "execution_count": 27,
   "metadata": {},
   "outputs": [
    {
     "name": "stdout",
     "output_type": "stream",
     "text": [
      "<class 'pandas.core.frame.DataFrame'>\n",
      "Int64Index: 3807 entries, 0 to 10848\n",
      "Data columns (total 13 columns):\n",
      "Id                      3807 non-null object\n",
      "Popularity              3807 non-null float64\n",
      "Original_title          3807 non-null object\n",
      "Director                3807 non-null object\n",
      "Runtime                 3807 non-null int64\n",
      "Genres                  3807 non-null object\n",
      "Production_companies    3807 non-null object\n",
      "Release_date            3807 non-null datetime64[ns]\n",
      "Vote_count              3807 non-null int64\n",
      "Vote_average            3807 non-null float64\n",
      "Release_year            3807 non-null int64\n",
      "Budget                  3807 non-null int64\n",
      "Revenue                 3807 non-null int64\n",
      "dtypes: datetime64[ns](1), float64(2), int64(5), object(5)\n",
      "memory usage: 416.4+ KB\n"
     ]
    }
   ],
   "source": [
    "df.info()"
   ]
  },
  {
   "cell_type": "code",
   "execution_count": 28,
   "metadata": {},
   "outputs": [
    {
     "data": {
      "text/html": [
       "<div>\n",
       "<style scoped>\n",
       "    .dataframe tbody tr th:only-of-type {\n",
       "        vertical-align: middle;\n",
       "    }\n",
       "\n",
       "    .dataframe tbody tr th {\n",
       "        vertical-align: top;\n",
       "    }\n",
       "\n",
       "    .dataframe thead th {\n",
       "        text-align: right;\n",
       "    }\n",
       "</style>\n",
       "<table border=\"1\" class=\"dataframe\">\n",
       "  <thead>\n",
       "    <tr style=\"text-align: right;\">\n",
       "      <th></th>\n",
       "      <th>Popularity</th>\n",
       "      <th>Runtime</th>\n",
       "      <th>Vote_count</th>\n",
       "      <th>Vote_average</th>\n",
       "      <th>Release_year</th>\n",
       "      <th>Budget</th>\n",
       "      <th>Revenue</th>\n",
       "    </tr>\n",
       "  </thead>\n",
       "  <tbody>\n",
       "    <tr>\n",
       "      <th>count</th>\n",
       "      <td>3807.000000</td>\n",
       "      <td>3807.000000</td>\n",
       "      <td>3807.000000</td>\n",
       "      <td>3807.000000</td>\n",
       "      <td>3807.000000</td>\n",
       "      <td>3.807000e+03</td>\n",
       "      <td>3.807000e+03</td>\n",
       "    </tr>\n",
       "    <tr>\n",
       "      <th>mean</th>\n",
       "      <td>1.203220</td>\n",
       "      <td>109.350932</td>\n",
       "      <td>533.886787</td>\n",
       "      <td>6.170239</td>\n",
       "      <td>2001.230890</td>\n",
       "      <td>4.469723e+07</td>\n",
       "      <td>1.386431e+08</td>\n",
       "    </tr>\n",
       "    <tr>\n",
       "      <th>std</th>\n",
       "      <td>1.480385</td>\n",
       "      <td>19.845761</td>\n",
       "      <td>883.605159</td>\n",
       "      <td>0.792423</td>\n",
       "      <td>11.327031</td>\n",
       "      <td>4.488596e+07</td>\n",
       "      <td>2.169636e+08</td>\n",
       "    </tr>\n",
       "    <tr>\n",
       "      <th>min</th>\n",
       "      <td>0.010335</td>\n",
       "      <td>15.000000</td>\n",
       "      <td>10.000000</td>\n",
       "      <td>2.200000</td>\n",
       "      <td>1960.000000</td>\n",
       "      <td>0.000000e+00</td>\n",
       "      <td>2.000000e+00</td>\n",
       "    </tr>\n",
       "    <tr>\n",
       "      <th>25%</th>\n",
       "      <td>0.470439</td>\n",
       "      <td>96.000000</td>\n",
       "      <td>74.000000</td>\n",
       "      <td>5.700000</td>\n",
       "      <td>1995.000000</td>\n",
       "      <td>1.354637e+07</td>\n",
       "      <td>1.919970e+07</td>\n",
       "    </tr>\n",
       "    <tr>\n",
       "      <th>50%</th>\n",
       "      <td>0.809646</td>\n",
       "      <td>106.000000</td>\n",
       "      <td>208.000000</td>\n",
       "      <td>6.200000</td>\n",
       "      <td>2004.000000</td>\n",
       "      <td>3.038360e+07</td>\n",
       "      <td>6.282246e+07</td>\n",
       "    </tr>\n",
       "    <tr>\n",
       "      <th>75%</th>\n",
       "      <td>1.386953</td>\n",
       "      <td>119.000000</td>\n",
       "      <td>584.000000</td>\n",
       "      <td>6.700000</td>\n",
       "      <td>2010.000000</td>\n",
       "      <td>6.082825e+07</td>\n",
       "      <td>1.656493e+08</td>\n",
       "    </tr>\n",
       "    <tr>\n",
       "      <th>max</th>\n",
       "      <td>32.985763</td>\n",
       "      <td>338.000000</td>\n",
       "      <td>9767.000000</td>\n",
       "      <td>8.400000</td>\n",
       "      <td>2015.000000</td>\n",
       "      <td>4.250000e+08</td>\n",
       "      <td>2.827124e+09</td>\n",
       "    </tr>\n",
       "  </tbody>\n",
       "</table>\n",
       "</div>"
      ],
      "text/plain": [
       "        Popularity      Runtime   Vote_count  Vote_average  Release_year  \\\n",
       "count  3807.000000  3807.000000  3807.000000   3807.000000   3807.000000   \n",
       "mean      1.203220   109.350932   533.886787      6.170239   2001.230890   \n",
       "std       1.480385    19.845761   883.605159      0.792423     11.327031   \n",
       "min       0.010335    15.000000    10.000000      2.200000   1960.000000   \n",
       "25%       0.470439    96.000000    74.000000      5.700000   1995.000000   \n",
       "50%       0.809646   106.000000   208.000000      6.200000   2004.000000   \n",
       "75%       1.386953   119.000000   584.000000      6.700000   2010.000000   \n",
       "max      32.985763   338.000000  9767.000000      8.400000   2015.000000   \n",
       "\n",
       "             Budget       Revenue  \n",
       "count  3.807000e+03  3.807000e+03  \n",
       "mean   4.469723e+07  1.386431e+08  \n",
       "std    4.488596e+07  2.169636e+08  \n",
       "min    0.000000e+00  2.000000e+00  \n",
       "25%    1.354637e+07  1.919970e+07  \n",
       "50%    3.038360e+07  6.282246e+07  \n",
       "75%    6.082825e+07  1.656493e+08  \n",
       "max    4.250000e+08  2.827124e+09  "
      ]
     },
     "execution_count": 28,
     "metadata": {},
     "output_type": "execute_result"
    }
   ],
   "source": [
    "df.describe()"
   ]
  },
  {
   "cell_type": "markdown",
   "metadata": {},
   "source": [
    "#### Here noticed that there are minimum values of budget and revenue instead of zeros"
   ]
  },
  {
   "cell_type": "code",
   "execution_count": null,
   "metadata": {},
   "outputs": [],
   "source": []
  },
  {
   "cell_type": "markdown",
   "metadata": {},
   "source": [
    "<a id='exploratory'></a>\n",
    "# Exploratory Data Analysis"
   ]
  },
  {
   "cell_type": "markdown",
   "metadata": {},
   "source": [
    "### Research Question 1 (Which genres are most popular from year to year?)"
   ]
  },
  {
   "cell_type": "code",
   "execution_count": 29,
   "metadata": {},
   "outputs": [
    {
     "data": {
      "text/plain": [
       "array(['Action|Adventure|Science Fiction|Thriller',\n",
       "       'Adventure|Science Fiction|Thriller',\n",
       "       'Action|Adventure|Science Fiction|Fantasy', ...,\n",
       "       'Action|Drama|Horror|Thriller', 'Adventure|Animation|Drama',\n",
       "       'Action|Adventure|Drama|War|Romance'], dtype=object)"
      ]
     },
     "execution_count": 29,
     "metadata": {},
     "output_type": "execute_result"
    }
   ],
   "source": [
    "df['Genres'].unique()"
   ]
  },
  {
   "cell_type": "markdown",
   "metadata": {},
   "source": [
    "#### Although this step supposed to print unique values, but I got a message that index must have other values so I added them to array followed."
   ]
  },
  {
   "cell_type": "code",
   "execution_count": 30,
   "metadata": {},
   "outputs": [],
   "source": [
    "genre_ls=list(map(str, (df['Genres'])))"
   ]
  },
  {
   "cell_type": "code",
   "execution_count": 31,
   "metadata": {},
   "outputs": [],
   "source": [
    "genre=['Action','Adventure','Science Fiction','Thriller','Fantasy','Drama','Horror','Animation','War','Romance','nan','Crime','Music','Western','Family','Comedy','Mystery','History','Documentary','Foreign','TV Movie']"
   ]
  },
  {
   "cell_type": "markdown",
   "metadata": {},
   "source": [
    "#### Genres column was written as object (string), so I converted into list to do operation on"
   ]
  },
  {
   "cell_type": "code",
   "execution_count": 32,
   "metadata": {},
   "outputs": [],
   "source": [
    "year=np.array([df['Release_year']])"
   ]
  },
  {
   "cell_type": "code",
   "execution_count": 33,
   "metadata": {},
   "outputs": [],
   "source": [
    "popularity=np.array(df['Popularity'])"
   ]
  },
  {
   "cell_type": "code",
   "execution_count": 34,
   "metadata": {},
   "outputs": [],
   "source": [
    "popularity_df=pd.DataFrame(index=genre, columns=range(1959,2016))\n"
   ]
  },
  {
   "cell_type": "markdown",
   "metadata": {},
   "source": [
    "#### I created numpy array of release year and popularity to drive the relation"
   ]
  },
  {
   "cell_type": "code",
   "execution_count": 35,
   "metadata": {},
   "outputs": [],
   "source": [
    "popularity_df=popularity_df.fillna(value=0.0)"
   ]
  },
  {
   "cell_type": "code",
   "execution_count": 36,
   "metadata": {},
   "outputs": [],
   "source": [
    "z=0"
   ]
  },
  {
   "cell_type": "code",
   "execution_count": 37,
   "metadata": {},
   "outputs": [],
   "source": [
    "for i in genre_ls:\n",
    "    split_genre = list(map(str, i.split('|')))\n",
    "    popularity_df.loc[split_genre, year[z]] = popularity_df.loc[split_genre, year[z]] + popularity[z]"
   ]
  },
  {
   "cell_type": "markdown",
   "metadata": {},
   "source": [
    "#### I splitted items of genres column to handle operations of analysis"
   ]
  },
  {
   "cell_type": "code",
   "execution_count": 38,
   "metadata": {},
   "outputs": [],
   "source": [
    "def calculate_std(x):\n",
    "    return (x-x.mean())/x.std(ddof=0)\n",
    "pop_genre = calculate_std(popularity_df)"
   ]
  },
  {
   "cell_type": "code",
   "execution_count": 39,
   "metadata": {},
   "outputs": [
    {
     "data": {
      "text/html": [
       "<div>\n",
       "<style scoped>\n",
       "    .dataframe tbody tr th:only-of-type {\n",
       "        vertical-align: middle;\n",
       "    }\n",
       "\n",
       "    .dataframe tbody tr th {\n",
       "        vertical-align: top;\n",
       "    }\n",
       "\n",
       "    .dataframe thead th {\n",
       "        text-align: right;\n",
       "    }\n",
       "</style>\n",
       "<table border=\"1\" class=\"dataframe\">\n",
       "  <thead>\n",
       "    <tr style=\"text-align: right;\">\n",
       "      <th></th>\n",
       "      <th>1959</th>\n",
       "      <th>1960</th>\n",
       "      <th>1961</th>\n",
       "      <th>1962</th>\n",
       "      <th>1963</th>\n",
       "      <th>1964</th>\n",
       "      <th>1965</th>\n",
       "      <th>1966</th>\n",
       "      <th>1967</th>\n",
       "      <th>1968</th>\n",
       "      <th>...</th>\n",
       "      <th>2006</th>\n",
       "      <th>2007</th>\n",
       "      <th>2008</th>\n",
       "      <th>2009</th>\n",
       "      <th>2010</th>\n",
       "      <th>2011</th>\n",
       "      <th>2012</th>\n",
       "      <th>2013</th>\n",
       "      <th>2014</th>\n",
       "      <th>2015</th>\n",
       "    </tr>\n",
       "  </thead>\n",
       "  <tbody>\n",
       "    <tr>\n",
       "      <th>Action</th>\n",
       "      <td>NaN</td>\n",
       "      <td>1.230527</td>\n",
       "      <td>1.230527</td>\n",
       "      <td>1.230527</td>\n",
       "      <td>1.230527</td>\n",
       "      <td>1.230527</td>\n",
       "      <td>1.230527</td>\n",
       "      <td>1.230527</td>\n",
       "      <td>1.230527</td>\n",
       "      <td>1.230527</td>\n",
       "      <td>...</td>\n",
       "      <td>1.230527</td>\n",
       "      <td>1.230527</td>\n",
       "      <td>1.230527</td>\n",
       "      <td>1.230527</td>\n",
       "      <td>1.230527</td>\n",
       "      <td>1.230527</td>\n",
       "      <td>1.230527</td>\n",
       "      <td>1.230527</td>\n",
       "      <td>1.230527</td>\n",
       "      <td>1.230527</td>\n",
       "    </tr>\n",
       "    <tr>\n",
       "      <th>Adventure</th>\n",
       "      <td>NaN</td>\n",
       "      <td>0.537184</td>\n",
       "      <td>0.537184</td>\n",
       "      <td>0.537184</td>\n",
       "      <td>0.537184</td>\n",
       "      <td>0.537184</td>\n",
       "      <td>0.537184</td>\n",
       "      <td>0.537184</td>\n",
       "      <td>0.537184</td>\n",
       "      <td>0.537184</td>\n",
       "      <td>...</td>\n",
       "      <td>0.537184</td>\n",
       "      <td>0.537184</td>\n",
       "      <td>0.537184</td>\n",
       "      <td>0.537184</td>\n",
       "      <td>0.537184</td>\n",
       "      <td>0.537184</td>\n",
       "      <td>0.537184</td>\n",
       "      <td>0.537184</td>\n",
       "      <td>0.537184</td>\n",
       "      <td>0.537184</td>\n",
       "    </tr>\n",
       "    <tr>\n",
       "      <th>Science Fiction</th>\n",
       "      <td>NaN</td>\n",
       "      <td>0.066628</td>\n",
       "      <td>0.066628</td>\n",
       "      <td>0.066628</td>\n",
       "      <td>0.066628</td>\n",
       "      <td>0.066628</td>\n",
       "      <td>0.066628</td>\n",
       "      <td>0.066628</td>\n",
       "      <td>0.066628</td>\n",
       "      <td>0.066628</td>\n",
       "      <td>...</td>\n",
       "      <td>0.066628</td>\n",
       "      <td>0.066628</td>\n",
       "      <td>0.066628</td>\n",
       "      <td>0.066628</td>\n",
       "      <td>0.066628</td>\n",
       "      <td>0.066628</td>\n",
       "      <td>0.066628</td>\n",
       "      <td>0.066628</td>\n",
       "      <td>0.066628</td>\n",
       "      <td>0.066628</td>\n",
       "    </tr>\n",
       "    <tr>\n",
       "      <th>Thriller</th>\n",
       "      <td>NaN</td>\n",
       "      <td>1.478298</td>\n",
       "      <td>1.478298</td>\n",
       "      <td>1.478298</td>\n",
       "      <td>1.478298</td>\n",
       "      <td>1.478298</td>\n",
       "      <td>1.478298</td>\n",
       "      <td>1.478298</td>\n",
       "      <td>1.478298</td>\n",
       "      <td>1.478298</td>\n",
       "      <td>...</td>\n",
       "      <td>1.478298</td>\n",
       "      <td>1.478298</td>\n",
       "      <td>1.478298</td>\n",
       "      <td>1.478298</td>\n",
       "      <td>1.478298</td>\n",
       "      <td>1.478298</td>\n",
       "      <td>1.478298</td>\n",
       "      <td>1.478298</td>\n",
       "      <td>1.478298</td>\n",
       "      <td>1.478298</td>\n",
       "    </tr>\n",
       "    <tr>\n",
       "      <th>Fantasy</th>\n",
       "      <td>NaN</td>\n",
       "      <td>-0.187390</td>\n",
       "      <td>-0.187390</td>\n",
       "      <td>-0.187390</td>\n",
       "      <td>-0.187390</td>\n",
       "      <td>-0.187390</td>\n",
       "      <td>-0.187390</td>\n",
       "      <td>-0.187390</td>\n",
       "      <td>-0.187390</td>\n",
       "      <td>-0.187390</td>\n",
       "      <td>...</td>\n",
       "      <td>-0.187390</td>\n",
       "      <td>-0.187390</td>\n",
       "      <td>-0.187390</td>\n",
       "      <td>-0.187390</td>\n",
       "      <td>-0.187390</td>\n",
       "      <td>-0.187390</td>\n",
       "      <td>-0.187390</td>\n",
       "      <td>-0.187390</td>\n",
       "      <td>-0.187390</td>\n",
       "      <td>-0.187390</td>\n",
       "    </tr>\n",
       "  </tbody>\n",
       "</table>\n",
       "<p>5 rows × 57 columns</p>\n",
       "</div>"
      ],
      "text/plain": [
       "                 1959      1960      1961      1962      1963      1964  \\\n",
       "Action            NaN  1.230527  1.230527  1.230527  1.230527  1.230527   \n",
       "Adventure         NaN  0.537184  0.537184  0.537184  0.537184  0.537184   \n",
       "Science Fiction   NaN  0.066628  0.066628  0.066628  0.066628  0.066628   \n",
       "Thriller          NaN  1.478298  1.478298  1.478298  1.478298  1.478298   \n",
       "Fantasy           NaN -0.187390 -0.187390 -0.187390 -0.187390 -0.187390   \n",
       "\n",
       "                     1965      1966      1967      1968    ...         2006  \\\n",
       "Action           1.230527  1.230527  1.230527  1.230527    ...     1.230527   \n",
       "Adventure        0.537184  0.537184  0.537184  0.537184    ...     0.537184   \n",
       "Science Fiction  0.066628  0.066628  0.066628  0.066628    ...     0.066628   \n",
       "Thriller         1.478298  1.478298  1.478298  1.478298    ...     1.478298   \n",
       "Fantasy         -0.187390 -0.187390 -0.187390 -0.187390    ...    -0.187390   \n",
       "\n",
       "                     2007      2008      2009      2010      2011      2012  \\\n",
       "Action           1.230527  1.230527  1.230527  1.230527  1.230527  1.230527   \n",
       "Adventure        0.537184  0.537184  0.537184  0.537184  0.537184  0.537184   \n",
       "Science Fiction  0.066628  0.066628  0.066628  0.066628  0.066628  0.066628   \n",
       "Thriller         1.478298  1.478298  1.478298  1.478298  1.478298  1.478298   \n",
       "Fantasy         -0.187390 -0.187390 -0.187390 -0.187390 -0.187390 -0.187390   \n",
       "\n",
       "                     2013      2014      2015  \n",
       "Action           1.230527  1.230527  1.230527  \n",
       "Adventure        0.537184  0.537184  0.537184  \n",
       "Science Fiction  0.066628  0.066628  0.066628  \n",
       "Thriller         1.478298  1.478298  1.478298  \n",
       "Fantasy         -0.187390 -0.187390 -0.187390  \n",
       "\n",
       "[5 rows x 57 columns]"
      ]
     },
     "execution_count": 39,
     "metadata": {},
     "output_type": "execute_result"
    }
   ],
   "source": [
    "pop_genre.head()"
   ]
  },
  {
   "cell_type": "code",
   "execution_count": 40,
   "metadata": {},
   "outputs": [
    {
     "data": {
      "text/plain": [
       "Text(0,0.5,'Popularity')"
      ]
     },
     "execution_count": 40,
     "metadata": {},
     "output_type": "execute_result"
    },
    {
     "data": {
      "image/png": "[encoded data removed]",
      "text/plain": [
       "<matplotlib.figure.Figure at 0x7f4d1a5cce80>"
      ]
     },
     "metadata": {
      "needs_background": "light"
     },
     "output_type": "display_data"
    }
   ],
   "source": [
    "pop_genre.iloc[10:, 53:].plot(kind='bar',figsize=(10,10))\n",
    "plt.title(\"Most Popular Genres Over Years\")\n",
    "plt.xlabel(\"Genres\")\n",
    "plt.ylabel(\"Popularity\")"
   ]
  },
  {
   "cell_type": "markdown",
   "metadata": {},
   "source": [
    "### Reasoning\n",
    "* Bar chart here represents the relation between 'Genres'(Categorical Data Type) and corresponding popularity values.\n",
    "* As an output of this question, I wanted to check the trend of movies industry as aresult of global crises and it is obvious that people escape from bad news into moments of laugh."
   ]
  },
  {
   "cell_type": "markdown",
   "metadata": {},
   "source": [
    "### Research Question 2 (Which year has highest release of movies?)"
   ]
  },
  {
   "cell_type": "code",
   "execution_count": 41,
   "metadata": {},
   "outputs": [],
   "source": [
    "df_high = df.groupby('Release_year').count()['Id']"
   ]
  },
  {
   "cell_type": "code",
   "execution_count": 42,
   "metadata": {},
   "outputs": [
    {
     "data": {
      "text/plain": [
       "Text(0,0.5,'No.')"
      ]
     },
     "execution_count": 42,
     "metadata": {},
     "output_type": "execute_result"
    },
    {
     "data": {
      "image/png": "[encoded data removed]",
      "text/plain": [
       "<matplotlib.figure.Figure at 0x7f4d19d15ba8>"
      ]
     },
     "metadata": {
      "needs_background": "light"
     },
     "output_type": "display_data"
    }
   ],
   "source": [
    "df.groupby('Release_year').count()['Id'].plot(xticks = np.arange(1959,2016,7),figsize=(8,8))\n",
    "plt.title(\"Movies Released Per Year\")\n",
    "plt.xlabel(\"Release Year\")\n",
    "plt.ylabel(\"No.\")"
   ]
  },
  {
   "cell_type": "markdown",
   "metadata": {},
   "source": [
    "### Reasoning\n",
    "* This line chart is graphical data that connects series of consecutive years versus no. of films produced. \n",
    "* Line chart is selected here visually representing single continuos line make it easy to track the rising in no. of films up to 2010 and also the degradation afetr this year."
   ]
  },
  {
   "cell_type": "markdown",
   "metadata": {},
   "source": [
    "### Research Question 3 (Which movies corresponding lowest and highest budget?)"
   ]
  },
  {
   "cell_type": "code",
   "execution_count": 43,
   "metadata": {},
   "outputs": [
    {
     "data": {
      "text/plain": [
       "Id                                                          46528\n",
       "Popularity                                                0.25054\n",
       "Original_title                                  The Warrior's Way\n",
       "Director                                               Sngmoo Lee\n",
       "Runtime                                                       100\n",
       "Genres                  Adventure|Fantasy|Action|Western|Thriller\n",
       "Production_companies                     Boram Entertainment Inc.\n",
       "Release_date                                  2010-12-02 00:00:00\n",
       "Vote_count                                                     74\n",
       "Vote_average                                                  6.4\n",
       "Release_year                                                 2010\n",
       "Budget                                                  425000000\n",
       "Revenue                                                  11087569\n",
       "Name: 2244, dtype: object"
      ]
     },
     "execution_count": 43,
     "metadata": {},
     "output_type": "execute_result"
    }
   ],
   "source": [
    "df.loc[df['Budget'].idxmax()]"
   ]
  },
  {
   "cell_type": "code",
   "execution_count": 44,
   "metadata": {},
   "outputs": [
    {
     "data": {
      "text/plain": [
       "Id                                                                  59296\n",
       "Popularity                                                        0.52043\n",
       "Original_title                                    Love, Wedding, Marriage\n",
       "Director                                                  Dermot Mulroney\n",
       "Runtime                                                                90\n",
       "Genres                                                     Comedy|Romance\n",
       "Production_companies    120dB Films|Scion Films|Voodoo Production Serv...\n",
       "Release_date                                          2011-06-03 00:00:00\n",
       "Vote_count                                                             55\n",
       "Vote_average                                                          5.3\n",
       "Release_year                                                         2011\n",
       "Budget                                                                  0\n",
       "Revenue                                                              1335\n",
       "Name: 3581, dtype: object"
      ]
     },
     "execution_count": 44,
     "metadata": {},
     "output_type": "execute_result"
    }
   ],
   "source": [
    "df.loc[df['Budget'].idxmin()]"
   ]
  },
  {
   "cell_type": "code",
   "execution_count": 45,
   "metadata": {},
   "outputs": [],
   "source": [
    "budget_info=pd.DataFrame(df['Budget'].sort_values(ascending = False))"
   ]
  },
  {
   "cell_type": "code",
   "execution_count": 46,
   "metadata": {},
   "outputs": [],
   "source": [
    "budget_info['Original_title'] =df['Original_title']"
   ]
  },
  {
   "cell_type": "code",
   "execution_count": 47,
   "metadata": {},
   "outputs": [],
   "source": [
    "budget_data = list(map(str, (budget_info['Original_title'])))"
   ]
  },
  {
   "cell_type": "code",
   "execution_count": 48,
   "metadata": {},
   "outputs": [],
   "source": [
    "x=list(budget_data[:15])\n",
    "y=list(budget_info['Budget'][:15])"
   ]
  },
  {
   "cell_type": "code",
   "execution_count": 49,
   "metadata": {},
   "outputs": [
    {
     "data": {
      "text/plain": [
       "Text(0.5,0,'Budget')"
      ]
     },
     "execution_count": 49,
     "metadata": {},
     "output_type": "execute_result"
    },
    {
     "data": {
      "image/png": "[encoded data removed]",
      "text/plain": [
       "<matplotlib.figure.Figure at 0x7f4d19acd908>"
      ]
     },
     "metadata": {
      "needs_background": "light"
     },
     "output_type": "display_data"
    }
   ],
   "source": [
    "ax=sns.pointplot(x=y, y=x)\n",
    "ax.set_title(\"High Budget Movies\")\n",
    "ax.set_xlabel(\"Budget\")"
   ]
  },
  {
   "cell_type": "markdown",
   "metadata": {},
   "source": [
    "### Reasoning\n",
    "* Point plot help in meeting each point in x axis (here is budget) with its corresponding point in y axis (movie name).\n",
    "* This relation was chosen as preface for studing the impact of increasing budget on movie success. "
   ]
  },
  {
   "cell_type": "code",
   "execution_count": null,
   "metadata": {},
   "outputs": [],
   "source": []
  },
  {
   "cell_type": "code",
   "execution_count": 50,
   "metadata": {},
   "outputs": [
    {
     "data": {
      "text/plain": [
       "array([[<matplotlib.axes._subplots.AxesSubplot object at 0x7f4d199fd208>,\n",
       "        <matplotlib.axes._subplots.AxesSubplot object at 0x7f4d1955d5c0>,\n",
       "        <matplotlib.axes._subplots.AxesSubplot object at 0x7f4d195166a0>],\n",
       "       [<matplotlib.axes._subplots.AxesSubplot object at 0x7f4d1954d780>,\n",
       "        <matplotlib.axes._subplots.AxesSubplot object at 0x7f4d19507780>,\n",
       "        <matplotlib.axes._subplots.AxesSubplot object at 0x7f4d195077b8>],\n",
       "       [<matplotlib.axes._subplots.AxesSubplot object at 0x7f4d194722b0>,\n",
       "        <matplotlib.axes._subplots.AxesSubplot object at 0x7f4d1942d2b0>,\n",
       "        <matplotlib.axes._subplots.AxesSubplot object at 0x7f4d193e6320>]], dtype=object)"
      ]
     },
     "execution_count": 50,
     "metadata": {},
     "output_type": "execute_result"
    },
    {
     "data": {
      "image/png": "[encoded data removed]",
      "text/plain": [
       "<matplotlib.figure.Figure at 0x7f4d19a049e8>"
      ]
     },
     "metadata": {
      "needs_background": "light"
     },
     "output_type": "display_data"
    }
   ],
   "source": [
    "df.hist(figsize=(8,8))"
   ]
  },
  {
   "cell_type": "markdown",
   "metadata": {},
   "source": [
    "### Reasoning\n",
    "* Histograms plotted above to show the distribution of numerical values of columns."
   ]
  },
  {
   "cell_type": "code",
   "execution_count": null,
   "metadata": {},
   "outputs": [],
   "source": []
  },
  {
   "cell_type": "code",
   "execution_count": null,
   "metadata": {},
   "outputs": [],
   "source": []
  },
  {
   "cell_type": "markdown",
   "metadata": {},
   "source": [
    "<a id='conclusions'></a>\n",
    "## Conclusions\n",
    "\n",
    "#### After analysis of this data containing lareg number of movies and some features related and after applying some steps in order to elaborate and clean data like( fix data types, removing duplicates, dropping un-necessary columns..,) leading to estimate some correlations through asking some quesions:\n",
    "* **Which genres are most popular from year to year?**\n",
    "> Answer: recently comedy movies are taking the trend.\n",
    "\n",
    "\n",
    "* **Which year has highest release of movies?**\n",
    "> 2010 had a breaktrhough in releasing movies compared to other years\n",
    "\n",
    "\n",
    "* **Which movies corresponding lowest and highest budget?**\n",
    "> The Warrior's Way followed by Pirates of the Caribbean: On Stranger Tides consuming highest buget, on the other side The Dark Nights Rises consumed the least budget\n",
    "\n",
    "#### Limitations\n",
    "* Solution based on 3807 result instead of 10866 after dropping zero values and nan values.\n",
    "* Results related to budget and revenue are function of (adjusted budget & adjusted revenue)\n",
    "* Answering the first question required separating (Genres Column) into list instead of (\"|\" separated string)\n",
    "* Some columns dropped cause I did not need in my solution, but you may need them for some other conclusions.\n",
    "\n",
    "\n",
    "\n",
    "\n",
    "## Submitting your Project \n",
    "\n",
    "> Before you submit your project, you need to create a .html or .pdf version of this notebook in the workspace here. To do that, run the code cell below. If it worked correctly, you should get a return code of 0, and you should see the generated .html file in the workspace directory (click on the orange Jupyter icon in the upper left).\n",
    "\n",
    "> Alternatively, you can download this report as .html via the **File** > **Download as** submenu, and then manually upload it into the workspace directory by clicking on the orange Jupyter icon in the upper left, then using the Upload button.\n",
    "\n",
    "> Once you've done this, you can submit your project by clicking on the \"Submit Project\" button in the lower right here. This will create and submit a zip file with this .ipynb doc and the .html or .pdf version you created. Congratulations!"
   ]
  },
  {
   "cell_type": "code",
   "execution_count": 51,
   "metadata": {},
   "outputs": [
    {
     "data": {
      "text/plain": [
       "0"
      ]
     },
     "execution_count": 51,
     "metadata": {},
     "output_type": "execute_result"
    }
   ],
   "source": [
    "from subprocess import call\n",
    "call(['python', '-m', 'nbconvert', 'Investigate_a_Dataset.ipynb'])"
   ]
  }
 ],
 "metadata": {
  "kernelspec": {
   "display_name": "Python 3",
   "language": "python",
   "name": "python3"
  },
  "language_info": {
   "codemirror_mode": {
    "name": "ipython",
    "version": 3
   },
   "file_extension": ".py",
   "mimetype": "text/x-python",
   "name": "python",
   "nbconvert_exporter": "python",
   "pygments_lexer": "ipython3",
   "version": "3.6.3"
  }
 },
 "nbformat": 4,
 "nbformat_minor": 2
}
